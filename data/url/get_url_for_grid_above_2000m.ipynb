{
 "cells": [
  {
   "cell_type": "code",
   "execution_count": 1,
   "metadata": {},
   "outputs": [],
   "source": [
    "import pandas as pd\n",
    "from tqdm import tqdm\n",
    "import os\n",
    "import csv\n",
    "from sys import path as sys_path\n",
    "sys_path.append('/home/valerie/Projects/ProdSwisstopo/')\n",
    "\n",
    "from utils.SwissDataset import get_tiles_ids_from_folder"
   ]
  },
  {
   "cell_type": "code",
   "execution_count": 2,
   "metadata": {},
   "outputs": [],
   "source": [
    "# Get the list of all tiles ids ABOVE 200m\n",
    "\n",
    "# get the list of all SI tiles url and all the SI tiles above 2000m\n",
    "above_2000m = pd.read_csv('grid_area_above_2000m.csv')\n",
    "above_2000m['id'].to_csv('ids_above2000m.csv',header=None,index=None)\n",
    "above_2000m_ids = above_2000m['id'].to_list()"
   ]
  },
  {
   "cell_type": "code",
   "execution_count": 3,
   "metadata": {},
   "outputs": [
    {
     "name": "stdout",
     "output_type": "stream",
     "text": [
      "\n",
      "Read images and DEM folder ...\n",
      "\n",
      "Images files found: 5546 \n",
      "Dem files found: 5546 \n",
      "Common images - dem ids found : 5545\n",
      "['2550_1132', '2550_1133', '2550_1134', '2551_1110', '2551_1111', '2551_1112', '2551_1131', '2551_1132', '2551_1133', '2551_1134']\n"
     ]
    }
   ],
   "source": [
    "# Get the list of tiles ids that are ALREADY STORED in the machine \n",
    "# no need to download them\n",
    "\n",
    "stored_tiles_ids = get_tiles_ids_from_folder (\n",
    "    img_dir='/data/valerie/swisstopo/SI_2020_50cm/',\n",
    "    dem_dir='/data/valerie/swisstopo/ALTI_2020_50cm/'\n",
    "    ) \n",
    "print(stored_tiles_ids[:10])\n",
    "# save list in a csv file:\n",
    "pd.DataFrame(stored_tiles_ids).to_csv('ids_stored_tiles.csv',header=None,index=None)"
   ]
  },
  {
   "cell_type": "code",
   "execution_count": 4,
   "metadata": {},
   "outputs": [
    {
     "name": "stdout",
     "output_type": "stream",
     "text": [
      "13480 5545 9840\n"
     ]
    }
   ],
   "source": [
    "# Get the list of tiles to DOWNLOAD and save it \n",
    "\n",
    "# tiles ids present  above 2000m but absent from stored tiles ids\n",
    "ids_to_download  = [item for item in above_2000m_ids if item not in stored_tiles_ids]\n",
    "print(len(above_2000m_ids),len(stored_tiles_ids), len(ids_to_download))\n"
   ]
  },
  {
   "cell_type": "code",
   "execution_count": 5,
   "metadata": {},
   "outputs": [],
   "source": [
    "\n",
    "pd.DataFrame(ids_to_download).to_csv('ids_to_download.csv',header=None,index=None)"
   ]
  },
  {
   "cell_type": "code",
   "execution_count": 6,
   "metadata": {},
   "outputs": [
    {
     "name": "stdout",
     "output_type": "stream",
     "text": [
      "https://data.geo.admin.ch/ch.swisstopo.swissalti3d/swissalti3d_2019_2507-1129/swissalti3d_2019_2507-1129_0.5_2056_5728.tif\n"
     ]
    }
   ],
   "source": [
    "def find_urls_with_tile_id(csv_file_path, tile_id):\n",
    "    \"\"\"\n",
    "    Find URLs in a CSV file that contain a specified tile ID.\n",
    "\n",
    "    Parameters:\n",
    "    - csv_file_path (str): Path to the CSV file containing URLs.\n",
    "    - tile_id (str): Tile ID to search for.\n",
    "\n",
    "    Returns:\n",
    "    - List of matching URLs.\n",
    "    \"\"\"\n",
    "    matching_urls = []\n",
    "\n",
    "    with open(csv_file_path, 'r', newline='') as csvfile:\n",
    "        reader = csv.reader(csvfile, delimiter='\\n')\n",
    "        for row in reader:\n",
    "            \n",
    "            if tile_id in row[0]:\n",
    "                matching_urls.append(row[0])\n",
    "            \n",
    "\n",
    "    if len(matching_urls)!= 1 :\n",
    "        print('found more than one/zeros url for', tile_id,)\n",
    "        raise KeyError\n",
    "\n",
    "    return matching_urls[0]\n",
    "\n",
    "# Example usage:\n",
    "csv_file_path = 'url_SA_all.csv'\n",
    "tile_id_to_search = '2507-1129'\n",
    "matching_urls = find_urls_with_tile_id(csv_file_path, tile_id_to_search)\n",
    "print(matching_urls)\n",
    "\n",
    "\n"
   ]
  },
  {
   "cell_type": "code",
   "execution_count": 7,
   "metadata": {},
   "outputs": [
    {
     "name": "stderr",
     "output_type": "stream",
     "text": [
      "9840it [10:08, 16.16it/s]\n"
     ]
    }
   ],
   "source": [
    "## from the list of SA and SI url for all tile ids to download\n",
    "url_dict=[]\n",
    "SA_file_path = 'url_SA_all.csv'\n",
    "SI_file_path = 'url_SI_all.csv'\n",
    "\n",
    "for k, id in tqdm (enumerate( ids_to_download )): \n",
    "    id = id.replace('_','-')\n",
    "    SI_url =  find_urls_with_tile_id(SI_file_path, id)\n",
    "    SA_url =  find_urls_with_tile_id(SA_file_path, id)\n",
    "    url_dict += [[SI_url, SA_url]]\n",
    "    if k % 100 == 0:   \n",
    "        pd.DataFrame(url_dict).to_csv('url_to_download.csv',header=None, index=None)\n",
    "        \n",
    "pd.DataFrame(url_dict).to_csv('url_to_download.csv',header=None, index=None)"
   ]
  },
  {
   "cell_type": "code",
   "execution_count": null,
   "metadata": {},
   "outputs": [],
   "source": []
  }
 ],
 "metadata": {
  "kernelspec": {
   "display_name": "Python 3",
   "language": "python",
   "name": "python3"
  },
  "language_info": {
   "codemirror_mode": {
    "name": "ipython",
    "version": 3
   },
   "file_extension": ".py",
   "mimetype": "text/x-python",
   "name": "python",
   "nbconvert_exporter": "python",
   "pygments_lexer": "ipython3",
   "version": "3.10.13"
  }
 },
 "nbformat": 4,
 "nbformat_minor": 2
}
